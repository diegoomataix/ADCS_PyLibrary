{
 "cells": [
  {
   "cell_type": "code",
   "execution_count": 1,
   "id": "864307d4",
   "metadata": {},
   "outputs": [],
   "source": [
    "# Import libraries\n",
    "import numpy as np\n",
    "import matplotlib.pyplot as plt\n",
    "from astropy import units as u\n",
    "from astropy import constants"
   ]
  },
  {
   "cell_type": "code",
   "execution_count": 21,
   "id": "0b7afbe6",
   "metadata": {},
   "outputs": [],
   "source": [
    "# Constants\n",
    "G = 6.67e-11 # Gravitational constant\n",
    "Re = 6.371e6 # Earth radius\n",
    "M = 5.9722e24 # Earth mass\n",
    "J2 = 1.083e-3 # Pert J2 term\n",
    "mu = G*M\n",
    "\n",
    "# Variables\n",
    "NRR = 2*np.pi/(365.25*24*60*60) # Nodal regression rate (SS orbit)"
   ]
  },
  {
   "cell_type": "code",
   "execution_count": 22,
   "id": "e1edab36",
   "metadata": {},
   "outputs": [
    {
     "data": {
      "text/plain": [
       "(6.67e-11,\n",
       " 6371000.0,\n",
       " 5.9722e+24,\n",
       " 0.001083,\n",
       " 398345740000000.0,\n",
       " 1.991021277657232e-07)"
      ]
     },
     "execution_count": 22,
     "metadata": {},
     "output_type": "execute_result"
    }
   ],
   "source": [
    "G,Re,M,J2,mu,NRR"
   ]
  },
  {
   "cell_type": "code",
   "execution_count": 31,
   "id": "cd523fe0",
   "metadata": {},
   "outputs": [
    {
     "data": {
      "text/plain": [
       "[10000000.0, 15000000.0, 20000000.0]"
      ]
     },
     "execution_count": 31,
     "metadata": {},
     "output_type": "execute_result"
    }
   ],
   "source": [
    "#%% Compute the eccentricity and radii of perigee for a geocentric \n",
    "#   sun-synchronous frozen orbits with semi-major axes a = 10000 km, \n",
    "#   a = 15000 km and a = 20000 km. Conclude that there is a range of \n",
    "#   semi-major axes for which a geocentric sun-synchronous frozen orbit \n",
    "#   is possible.\n",
    "\n",
    "a = [10000*1e3, 15000*1e3, 20000*1e3] \n",
    "e = [0] * 3\n",
    "\n",
    "for ii in a:\n",
    "    e[ii] = np.sqrt( 1 - np.sqrt( ( (3*J2*Re**2)/(2*NRR) ) * np.sqrt( mu / (5*ii**7)) ) )\n"
   ]
  },
  {
   "cell_type": "code",
   "execution_count": null,
   "id": "e47b5560",
   "metadata": {},
   "outputs": [],
   "source": []
  },
  {
   "cell_type": "code",
   "execution_count": null,
   "id": "402179a3",
   "metadata": {},
   "outputs": [],
   "source": []
  }
 ],
 "metadata": {
  "kernelspec": {
   "display_name": "Python 3",
   "language": "python",
   "name": "python3"
  },
  "language_info": {
   "codemirror_mode": {
    "name": "ipython",
    "version": 3
   },
   "file_extension": ".py",
   "mimetype": "text/x-python",
   "name": "python",
   "nbconvert_exporter": "python",
   "pygments_lexer": "ipython3",
   "version": "3.8.3"
  }
 },
 "nbformat": 4,
 "nbformat_minor": 5
}
