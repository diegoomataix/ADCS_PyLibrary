{
 "cells": [
  {
   "cell_type": "code",
   "execution_count": 83,
   "metadata": {},
   "outputs": [],
   "source": [
    "#%% Import libraries\n",
    "import numpy as np\n",
    "from sympy import *\n",
    "from sympy.physics.vector import dynamicsymbols, init_vprinting\n",
    "import matplotlib.pyplot as plt\n",
    "# from sympy.physics.mechanics import ReferenceFrame\n",
    "from IPython.display import display, Latex, Math\n",
    "init_vprinting(use_latex='mathjax')\n",
    "\n",
    "from sys import path\n",
    "path.append(\n",
    "    \"c:\\\\Users\\\\diego\\\\Dropbox\\\\Academic\\\\MEng Space Systems\\\\3. DOCA\\\\ADCS functions\")\n",
    "import ADCS_Functions as adcs\n",
    "import ADCS_Functions_sym as adcs_sym"
   ]
  },
  {
   "cell_type": "code",
   "execution_count": 84,
   "metadata": {},
   "outputs": [],
   "source": [
    "from sympy.abc import x, G, M, r\n",
    "phi, R_e, J3, lamb= symbols('phi R_e J3 lambda')"
   ]
  },
  {
   "cell_type": "markdown",
   "metadata": {},
   "source": [
    "__________________________\n",
    "\n",
    "### $J_{2,0}$"
   ]
  },
  {
   "cell_type": "code",
   "execution_count": 85,
   "metadata": {},
   "outputs": [
    {
     "data": {
      "text/latex": [
       "$\\displaystyle \\left( 1.5 \\sin^{2}{\\left(\\phi \\right)} - 0.5, \\  1.5 \\sin^{2}{\\left(\\phi \\right)} - 0.5, \\  \\frac{G J_{nm} M R_{e}^{2} \\left(1.5 \\sin^{2}{\\left(\\phi \\right)} - 0.5\\right)}{r^{3}}, \\  \\frac{3 G J_{nm} M R_{e}^{2} \\left(1.5 \\sin^{2}{\\left(\\phi \\right)} - 0.5\\right)}{r^{4}}, \\  - \\frac{3.0 G J_{nm} M R_{e}^{2} \\sin{\\left(\\phi \\right)} \\cos{\\left(\\phi \\right)}}{r^{4}}, \\  0\\right)$"
      ],
      "text/plain": [
       "⎛                                                   2 ⎛       2         ⎞     \n",
       "⎜       2                  2           G⋅J_{nm}⋅M⋅Rₑ ⋅⎝1.5⋅sin (φ) - 0.5⎠  3⋅G\n",
       "⎜1.5⋅sin (φ) - 0.5, 1.5⋅sin (φ) - 0.5, ──────────────────────────────────, ───\n",
       "⎜                                                       3                     \n",
       "⎝                                                      r                      \n",
       "\n",
       "            2 ⎛       2         ⎞                    2                  ⎞\n",
       "⋅J_{nm}⋅M⋅Rₑ ⋅⎝1.5⋅sin (φ) - 0.5⎠  -3.0⋅G⋅J_{nm}⋅M⋅Rₑ ⋅sin(φ)⋅cos(φ)    ⎟\n",
       "─────────────────────────────────, ──────────────────────────────────, 0⎟\n",
       "               4                                    4                   ⎟\n",
       "              r                                    r                    ⎠"
      ]
     },
     "execution_count": 85,
     "metadata": {},
     "output_type": "execute_result"
    }
   ],
   "source": [
    "P2, P2, U2, a_r2, a_phi2, a_lamb2 = adcs_sym.non_spherical_pot(\n",
    "    2, 0, subs=False, Jnmval=None, lamb_nm_val=None, h_orbit=None)\n",
    "P2, P2, U2, a_r2, a_phi2, a_lamb2"
   ]
  },
  {
   "cell_type": "code",
   "execution_count": 86,
   "metadata": {},
   "outputs": [
    {
     "data": {
      "text/latex": [
       "$\\displaystyle 0.0375130741547309 \\sin^{2}{\\left(\\phi \\right)} - 0.012504358051577$"
      ],
      "text/plain": [
       "                      2                       \n",
       "0.0375130741547309⋅sin (φ) - 0.012504358051577"
      ]
     },
     "execution_count": 86,
     "metadata": {},
     "output_type": "execute_result"
    }
   ],
   "source": [
    "P2, P2, U2, a_r2, a_phi2, a_lamb2  = adcs_sym.non_spherical_pot(\n",
    "    2, 0, subs=True, Jnmval=1.083e-3, lamb_nm_val=None, h_orbit=400e3)\n",
    "a_r2"
   ]
  },
  {
   "cell_type": "markdown",
   "metadata": {},
   "source": [
    "__________________________\n",
    "\n",
    "### $J_{3,0}$"
   ]
  },
  {
   "cell_type": "code",
   "execution_count": 87,
   "metadata": {},
   "outputs": [],
   "source": [
    "P3, P3, U3, a_r3, a_phi3, a_lamb3 = adcs_sym.non_spherical_pot(\n",
    "    3, 0, subs=False, Jnmval=None, lamb_nm_val=None, h_orbit=None)\n"
   ]
  },
  {
   "cell_type": "code",
   "execution_count": 88,
   "metadata": {},
   "outputs": [
    {
     "data": {
      "text/latex": [
       "$\\displaystyle \\left( \\left(2.5 \\sin^{2}{\\left(\\phi \\right)} - 1.5\\right) \\sin{\\left(\\phi \\right)}, \\  \\left(2.5 \\sin^{2}{\\left(\\phi \\right)} - 1.5\\right) \\sin{\\left(\\phi \\right)}, \\  \\frac{G J_{nm} M R_{e}^{3} \\left(2.5 \\sin^{2}{\\left(\\phi \\right)} - 1.5\\right) \\sin{\\left(\\phi \\right)}}{r^{4}}, \\  \\frac{4 G J_{nm} M R_{e}^{3} \\left(2.5 \\sin^{2}{\\left(\\phi \\right)} - 1.5\\right) \\sin{\\left(\\phi \\right)}}{r^{5}}, \\  - \\frac{\\frac{G J_{nm} M R_{e}^{3} \\left(2.5 \\sin^{2}{\\left(\\phi \\right)} - 1.5\\right) \\cos{\\left(\\phi \\right)}}{r^{4}} + \\frac{5.0 G J_{nm} M R_{e}^{3} \\sin^{2}{\\left(\\phi \\right)} \\cos{\\left(\\phi \\right)}}{r^{4}}}{r}, \\  0\\right)$"
      ],
      "text/plain": [
       "⎛                                                                             \n",
       "⎜                                                                             \n",
       "⎜                                                                             \n",
       "⎜                                                                     3 ⎛     \n",
       "⎜⎛       2         ⎞         ⎛       2         ⎞         G⋅J_{nm}⋅M⋅Rₑ ⋅⎝2.5⋅s\n",
       "⎜⎝2.5⋅sin (φ) - 1.5⎠⋅sin(φ), ⎝2.5⋅sin (φ) - 1.5⎠⋅sin(φ), ─────────────────────\n",
       "⎜                                                                             \n",
       "⎝                                                                            r\n",
       "\n",
       "                                                                    ⎛         \n",
       "                                                                    ⎜G⋅J_{nm}⋅\n",
       "                                                                   -⎜─────────\n",
       "  2         ⎞                        3 ⎛       2         ⎞          ⎜         \n",
       "in (φ) - 1.5⎠⋅sin(φ)  4⋅G⋅J_{nm}⋅M⋅Rₑ ⋅⎝2.5⋅sin (φ) - 1.5⎠⋅sin(φ)   ⎝         \n",
       "────────────────────, ───────────────────────────────────────────, ───────────\n",
       "4                                           5                                 \n",
       "                                           r                                  \n",
       "\n",
       "    3 ⎛       2         ⎞                           3    2          ⎞    ⎞\n",
       "M⋅Rₑ ⋅⎝2.5⋅sin (φ) - 1.5⎠⋅cos(φ)   5.0⋅G⋅J_{nm}⋅M⋅Rₑ ⋅sin (φ)⋅cos(φ)⎟    ⎟\n",
       "──────────────────────────────── + ─────────────────────────────────⎟    ⎟\n",
       "            4                                       4               ⎟    ⎟\n",
       "           r                                       r                ⎠    ⎟\n",
       "──────────────────────────────────────────────────────────────────────, 0⎟\n",
       "                             r                                           ⎟\n",
       "                                                                         ⎠"
      ]
     },
     "execution_count": 88,
     "metadata": {},
     "output_type": "execute_result"
    }
   ],
   "source": [
    "P3, P3, U3, a_r3, a_phi3, a_lamb3"
   ]
  },
  {
   "cell_type": "code",
   "execution_count": 89,
   "metadata": {},
   "outputs": [],
   "source": [
    "P3, P3, U3, a_r3, a_phi3, a_lamb3 = adcs_sym.non_spherical_pot(\n",
    "    3, 0, subs=True, Jnmval=1.083e-3, lamb_nm_val=None, h_orbit=400e3)"
   ]
  },
  {
   "cell_type": "code",
   "execution_count": 90,
   "metadata": {},
   "outputs": [
    {
     "data": {
      "text/latex": [
       "$\\displaystyle \\left( \\left(2.5 \\sin^{2}{\\left(\\phi \\right)} - 1.5\\right) \\sin{\\left(\\phi \\right)}, \\  \\left(2.5 \\sin^{2}{\\left(\\phi \\right)} - 1.5\\right) \\sin{\\left(\\phi \\right)}, \\  \\frac{G J_{nm} M R_{e}^{3} \\left(2.5 \\sin^{2}{\\left(\\phi \\right)} - 1.5\\right) \\sin{\\left(\\phi \\right)}}{r^{4}}, \\  \\left(0.0784377149082821 \\sin^{2}{\\left(\\phi \\right)} - 0.0470626289449693\\right) \\sin{\\left(\\phi \\right)}, \\  \\left(0.0117656572362423 - 0.0588282861812116 \\sin^{2}{\\left(\\phi \\right)}\\right) \\cos{\\left(\\phi \\right)}, \\  0\\right)$"
      ],
      "text/plain": [
       "⎛                                                                     3 ⎛     \n",
       "⎜⎛       2         ⎞         ⎛       2         ⎞         G⋅J_{nm}⋅M⋅Rₑ ⋅⎝2.5⋅s\n",
       "⎜⎝2.5⋅sin (φ) - 1.5⎠⋅sin(φ), ⎝2.5⋅sin (φ) - 1.5⎠⋅sin(φ), ─────────────────────\n",
       "⎜                                                                             \n",
       "⎝                                                                            r\n",
       "\n",
       "  2         ⎞                                                                 \n",
       "in (φ) - 1.5⎠⋅sin(φ)  ⎛                      2                        ⎞       \n",
       "────────────────────, ⎝0.0784377149082821⋅sin (φ) - 0.0470626289449693⎠⋅sin(φ)\n",
       "4                                                                             \n",
       "                                                                              \n",
       "\n",
       "                                                             ⎞\n",
       "  ⎛                                           2   ⎞          ⎟\n",
       ", ⎝0.0117656572362423 - 0.0588282861812116⋅sin (φ)⎠⋅cos(φ), 0⎟\n",
       "                                                             ⎟\n",
       "                                                             ⎠"
      ]
     },
     "execution_count": 90,
     "metadata": {},
     "output_type": "execute_result"
    }
   ],
   "source": [
    "P3, P3, U3, a_r3, a_phi3, a_lamb3"
   ]
  },
  {
   "cell_type": "markdown",
   "metadata": {},
   "source": [
    "________________\n",
    "\n",
    "\n",
    "### $J_{2,2}$"
   ]
  },
  {
   "cell_type": "code",
   "execution_count": 91,
   "metadata": {},
   "outputs": [],
   "source": [
    "P2, P22, U22, a_r22, a_phi22, a_lamb22 = adcs_sym.non_spherical_pot(\n",
    "    2, 2, subs=False, Jnmval=None, lamb_nm_val=None, h_orbit=None)\n"
   ]
  },
  {
   "cell_type": "code",
   "execution_count": 92,
   "metadata": {},
   "outputs": [
    {
     "data": {
      "text/latex": [
       "$\\displaystyle 1.5 x^{2} - 0.5$"
      ],
      "text/plain": [
       "     2      \n",
       "1.5⋅x  - 0.5"
      ]
     },
     "execution_count": 92,
     "metadata": {},
     "output_type": "execute_result"
    }
   ],
   "source": [
    "P2"
   ]
  },
  {
   "cell_type": "code",
   "execution_count": 93,
   "metadata": {},
   "outputs": [
    {
     "data": {
      "text/latex": [
       "$\\displaystyle 3.0 \\left(\\cos^{2}{\\left(\\phi \\right)}\\right)^{1.0}$"
      ],
      "text/plain": [
       "           1.0\n",
       "       2      \n",
       "3.0⋅cos (φ)   "
      ]
     },
     "execution_count": 93,
     "metadata": {},
     "output_type": "execute_result"
    }
   ],
   "source": [
    "P22.powsimp()"
   ]
  },
  {
   "cell_type": "code",
   "execution_count": 94,
   "metadata": {},
   "outputs": [
    {
     "data": {
      "text/latex": [
       "$\\displaystyle \\frac{3.0 G J_{nm} M R_{e}^{2} \\left(\\cos^{2}{\\left(\\phi \\right)}\\right)^{1.0} \\cos{\\left(2 \\lambda_{nm} - 2 \\lambda \\right)}}{r^{3}}$"
      ],
      "text/plain": [
       "                          1.0                          \n",
       "                 2    2                                \n",
       "3.0⋅G⋅J_{nm}⋅M⋅Rₑ ⋅cos (φ)   ⋅cos(2⋅\\lambda_{nm} - 2⋅λ)\n",
       "───────────────────────────────────────────────────────\n",
       "                            3                          \n",
       "                           r                           "
      ]
     },
     "execution_count": 94,
     "metadata": {},
     "output_type": "execute_result"
    }
   ],
   "source": [
    "U22.powsimp()\n"
   ]
  },
  {
   "cell_type": "code",
   "execution_count": 95,
   "metadata": {},
   "outputs": [
    {
     "data": {
      "text/latex": [
       "$\\displaystyle \\frac{9.0 G J_{nm} M R_{e}^{2} \\left(\\cos^{2}{\\left(\\phi \\right)}\\right)^{1.0} \\cos{\\left(2 \\lambda_{nm} - 2 \\lambda \\right)}}{r^{4}}$"
      ],
      "text/plain": [
       "                          1.0                          \n",
       "                 2    2                                \n",
       "9.0⋅G⋅J_{nm}⋅M⋅Rₑ ⋅cos (φ)   ⋅cos(2⋅\\lambda_{nm} - 2⋅λ)\n",
       "───────────────────────────────────────────────────────\n",
       "                            4                          \n",
       "                           r                           "
      ]
     },
     "execution_count": 95,
     "metadata": {},
     "output_type": "execute_result"
    }
   ],
   "source": [
    "a_r22"
   ]
  },
  {
   "cell_type": "code",
   "execution_count": 96,
   "metadata": {},
   "outputs": [
    {
     "data": {
      "text/latex": [
       "$\\displaystyle \\frac{6.0 G J_{nm} M R_{e}^{2} \\left(\\cos^{2}{\\left(\\phi \\right)}\\right)^{1.0} \\sin{\\left(\\phi \\right)} \\cos{\\left(2 \\lambda_{nm} - 2 \\lambda \\right)}}{r^{4} \\cos{\\left(\\phi \\right)}}$"
      ],
      "text/plain": [
       "                          1.0                                 \n",
       "                 2    2                                       \n",
       "6.0⋅G⋅J_{nm}⋅M⋅Rₑ ⋅cos (φ)   ⋅sin(φ)⋅cos(2⋅\\lambda_{nm} - 2⋅λ)\n",
       "──────────────────────────────────────────────────────────────\n",
       "                           4                                  \n",
       "                          r ⋅cos(φ)                           "
      ]
     },
     "execution_count": 96,
     "metadata": {},
     "output_type": "execute_result"
    }
   ],
   "source": [
    "a_phi22"
   ]
  },
  {
   "cell_type": "code",
   "execution_count": 97,
   "metadata": {},
   "outputs": [
    {
     "data": {
      "text/latex": [
       "$\\displaystyle - \\frac{6.0 G J_{nm} M R_{e}^{2} \\left(\\cos^{2}{\\left(\\phi \\right)}\\right)^{1.0} \\sin{\\left(2 \\left(\\lambda_{nm} - \\lambda\\right) \\right)}}{r^{4} \\cos{\\left(\\phi \\right)}}$"
      ],
      "text/plain": [
       "                           1.0                           \n",
       "                  2    2                                 \n",
       "-6.0⋅G⋅J_{nm}⋅M⋅Rₑ ⋅cos (φ)   ⋅sin(2⋅(\\lambda_{nm} - λ)) \n",
       "─────────────────────────────────────────────────────────\n",
       "                         4                               \n",
       "                        r ⋅cos(φ)                        "
      ]
     },
     "execution_count": 97,
     "metadata": {},
     "output_type": "execute_result"
    }
   ],
   "source": [
    "a_lamb22.trigsimp()\n"
   ]
  },
  {
   "cell_type": "code",
   "execution_count": 98,
   "metadata": {},
   "outputs": [
    {
     "data": {
      "text/latex": [
       "$\\displaystyle - \\frac{5.56293485840667 \\cdot 10^{-8} \\left(\\cos^{2}{\\left(\\phi \\right)}\\right)^{1.0} \\sin{\\left(2 \\lambda_{nm} + 29.8 \\right)}}{\\cos{\\left(\\phi \\right)}}$"
      ],
      "text/plain": [
       "                            1.0                            \n",
       "                        2                                  \n",
       "-5.56293485840667e-8⋅cos (φ)   ⋅sin(2⋅\\lambda_{nm} + 29.8) \n",
       "───────────────────────────────────────────────────────────\n",
       "                           cos(φ)                          "
      ]
     },
     "execution_count": 98,
     "metadata": {},
     "output_type": "execute_result"
    }
   ],
   "source": [
    "P2, P22, U22, a_r22, a_phi22, a_lamb22 = adcs_sym.non_spherical_pot(\n",
    "    2, 2, subs=True, Jnmval=1.81e-6, lamb_nm_val=-14.9, h_orbit=35786e3)\n",
    "\n",
    "a_lamb22.simplify().trigsimp()\n"
   ]
  }
 ],
 "metadata": {
  "interpreter": {
   "hash": "7bdadbcc745afc9ac1e1714124e1bb5770ee7d86d26de672bb194e9104174d2a"
  },
  "kernelspec": {
   "display_name": "Python 3.8.3 64-bit ('base': conda)",
   "language": "python",
   "name": "python3"
  },
  "language_info": {
   "codemirror_mode": {
    "name": "ipython",
    "version": 3
   },
   "file_extension": ".py",
   "mimetype": "text/x-python",
   "name": "python",
   "nbconvert_exporter": "python",
   "pygments_lexer": "ipython3",
   "version": "3.8.3"
  },
  "orig_nbformat": 4
 },
 "nbformat": 4,
 "nbformat_minor": 2
}
