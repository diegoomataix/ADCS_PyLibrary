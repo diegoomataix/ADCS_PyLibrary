{
 "cells": [
  {
   "cell_type": "code",
   "execution_count": 2,
   "metadata": {},
   "outputs": [],
   "source": [
    "# A program to Show that the cross vector product can be written as follows: np.cross(a,b) = skew(a)*b, \n",
    "# and other proofs\n",
    "\n",
    "from sympy import *\n",
    "init_printing(use_latex='mathjax')\n",
    "from sympy.physics.mechanics import ReferenceFrame, dot, cross\n",
    "import numpy as np\n",
    "\n",
    "import sys\n",
    "sys.path.append(\n",
    "   \"c:\\\\Users\\\\diego\\\\Dropbox\\\\Academic\\\\MEng Space Systems\\\\3. DOCA\\\\ADCS functions\")\n",
    "import ADCS_Functions as adcs\n",
    "import ADCS_Functions_sym as adcs_sym"
   ]
  },
  {
   "cell_type": "markdown",
   "metadata": {},
   "source": [
    "## Functions"
   ]
  },
  {
   "cell_type": "code",
   "execution_count": 5,
   "metadata": {},
   "outputs": [],
   "source": [
    "def vector_sym(sym1=symbols('a1'), sym2=symbols('a2'), sym3=symbols('a3')):\n",
    "    \"\"\"\n",
    "    Function to symbolically display a 3x1 vector\n",
    "    \"\"\"\n",
    "    a1, a2, a3 = symbols('a1 a2 a3')\n",
    "    Vector = Matrix([a1, a2, a3])\n",
    "    return Vector.subs(a1, sym1).subs(a2, sym2).subs(a3, sym3)"
   ]
  },
  {
   "cell_type": "code",
   "execution_count": 6,
   "metadata": {},
   "outputs": [],
   "source": [
    "def crossProduct(vect_A, vect_B):\n",
    "    \"\"\"\n",
    "    Function to find cross product symbolically of 2 3x1 vectors. \n",
    "    Made out of desperation because cross(a,b) did not find with vector_sym function\n",
    "    \"\"\"\n",
    "    cross_P = []\n",
    "    cross_P.append(vect_A[1] * vect_B[2] - vect_A[2] * vect_B[1])\n",
    "    cross_P.append(vect_A[2] * vect_B[0] - vect_A[0] * vect_B[2])\n",
    "    cross_P.append(vect_A[0] * vect_B[1] - vect_A[1] * vect_B[0])\n",
    "    return Matrix(cross_P)\n"
   ]
  },
  {
   "cell_type": "code",
   "execution_count": 7,
   "metadata": {},
   "outputs": [],
   "source": [
    "def dotProduct(vect_A, vect_B, n=3):\n",
    "    \"\"\"\n",
    "    Function to find dot product symbolically. \n",
    "    Made out of desperation because dot(a,b) did not find with vector_sym function\n",
    "    \"\"\"\n",
    "    product = 0\n",
    "    # Loop for calculate dot product\n",
    "    for i in range(0, n):\n",
    "        product = product + vect_A[i] * vect_B[i]\n",
    "\n",
    "    return product\n"
   ]
  },
  {
   "cell_type": "markdown",
   "metadata": {},
   "source": [
    "## Proof 1: np.cross(a,b) = skew(a)*b\n",
    "### Show that the cross vector product can be written as follows: np.cross(a,b) = skew(a)*b"
   ]
  },
  {
   "cell_type": "code",
   "execution_count": 8,
   "metadata": {},
   "outputs": [
    {
     "data": {
      "text/latex": [
       "$\\displaystyle \\left( \\left[\\begin{matrix}a_{2} b_{3} - a_{3} b_{2}\\\\- a_{1} b_{3} + a_{3} b_{1}\\\\a_{1} b_{2} - a_{2} b_{1}\\end{matrix}\\right], \\  \\left[\\begin{matrix}a_{2} b_{3} - a_{3} b_{2}\\\\- a_{1} b_{3} + a_{3} b_{1}\\\\a_{1} b_{2} - a_{2} b_{1}\\end{matrix}\\right]\\right)$"
      ],
      "text/plain": [
       "⎛⎡a₂⋅b₃ - a₃⋅b₂ ⎤  ⎡a₂⋅b₃ - a₃⋅b₂ ⎤⎞\n",
       "⎜⎢              ⎥  ⎢              ⎥⎟\n",
       "⎜⎢-a₁⋅b₃ + a₃⋅b₁⎥, ⎢-a₁⋅b₃ + a₃⋅b₁⎥⎟\n",
       "⎜⎢              ⎥  ⎢              ⎥⎟\n",
       "⎝⎣a₁⋅b₂ - a₂⋅b₁ ⎦  ⎣a₁⋅b₂ - a₂⋅b₁ ⎦⎠"
      ]
     },
     "execution_count": 8,
     "metadata": {},
     "output_type": "execute_result"
    }
   ],
   "source": [
    "b1, b2, b3 = symbols('b1 b2 b3')\n",
    "a, b = vector_sym(), vector_sym(b1, b2, b3)\n",
    "#a, b, type(a), type(b)#, cross(a,b)\n",
    "crossProduct(a, b), skew_sym() * b,\n",
    "#cross(a,b), dot(skew_sym(), b)\n"
   ]
  },
  {
   "cell_type": "markdown",
   "metadata": {},
   "source": [
    "## Proof 2: skew(a)*b = -skew(b)*a"
   ]
  },
  {
   "cell_type": "code",
   "execution_count": 9,
   "metadata": {},
   "outputs": [
    {
     "data": {
      "text/latex": [
       "$\\displaystyle \\left( \\left[\\begin{matrix}a_{2} b_{3} - a_{3} b_{2}\\\\- a_{1} b_{3} + a_{3} b_{1}\\\\a_{1} b_{2} - a_{2} b_{1}\\end{matrix}\\right], \\  \\left[\\begin{matrix}a_{2} b_{3} - a_{3} b_{2}\\\\- a_{1} b_{3} + a_{3} b_{1}\\\\a_{1} b_{2} - a_{2} b_{1}\\end{matrix}\\right]\\right)$"
      ],
      "text/plain": [
       "⎛⎡a₂⋅b₃ - a₃⋅b₂ ⎤  ⎡a₂⋅b₃ - a₃⋅b₂ ⎤⎞\n",
       "⎜⎢              ⎥  ⎢              ⎥⎟\n",
       "⎜⎢-a₁⋅b₃ + a₃⋅b₁⎥, ⎢-a₁⋅b₃ + a₃⋅b₁⎥⎟\n",
       "⎜⎢              ⎥  ⎢              ⎥⎟\n",
       "⎝⎣a₁⋅b₂ - a₂⋅b₁ ⎦  ⎣a₁⋅b₂ - a₂⋅b₁ ⎦⎠"
      ]
     },
     "execution_count": 9,
     "metadata": {},
     "output_type": "execute_result"
    }
   ],
   "source": [
    "skew_sym() * b, -skew_sym(b1, b2, b3) * a,"
   ]
  },
  {
   "cell_type": "markdown",
   "metadata": {},
   "source": [
    "## Proof 3: skew(a)*a = 0"
   ]
  },
  {
   "cell_type": "code",
   "execution_count": 10,
   "metadata": {},
   "outputs": [
    {
     "data": {
      "text/latex": [
       "$\\displaystyle \\left[\\begin{matrix}0\\\\0\\\\0\\end{matrix}\\right]$"
      ],
      "text/plain": [
       "⎡0⎤\n",
       "⎢ ⎥\n",
       "⎢0⎥\n",
       "⎢ ⎥\n",
       "⎣0⎦"
      ]
     },
     "execution_count": 10,
     "metadata": {},
     "output_type": "execute_result"
    }
   ],
   "source": [
    "skew_sym() * a\n"
   ]
  }
 ],
 "metadata": {
  "interpreter": {
   "hash": "7bdadbcc745afc9ac1e1714124e1bb5770ee7d86d26de672bb194e9104174d2a"
  },
  "kernelspec": {
   "display_name": "Python 3.8.3 64-bit ('base': conda)",
   "name": "python3"
  },
  "language_info": {
   "codemirror_mode": {
    "name": "ipython",
    "version": 3
   },
   "file_extension": ".py",
   "mimetype": "text/x-python",
   "name": "python",
   "nbconvert_exporter": "python",
   "pygments_lexer": "ipython3",
   "version": "3.8.3"
  },
  "orig_nbformat": 4
 },
 "nbformat": 4,
 "nbformat_minor": 2
}
