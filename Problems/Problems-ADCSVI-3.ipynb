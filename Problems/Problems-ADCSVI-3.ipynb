{
 "cells": [
  {
   "cell_type": "code",
   "execution_count": 147,
   "metadata": {},
   "outputs": [],
   "source": [
    "import math\n",
    "from sympy import *\n",
    "from sympy.physics.mechanics import ReferenceFrame\n",
    "init_printing(use_latex='mathjax')\n"
   ]
  },
  {
   "cell_type": "code",
   "execution_count": 148,
   "metadata": {},
   "outputs": [],
   "source": [
    "## Define symbols\n",
    "x, y, z = symbols('mu gamma psi')"
   ]
  },
  {
   "cell_type": "code",
   "execution_count": 149,
   "metadata": {},
   "outputs": [],
   "source": [
    "## Elementary rotation matrices Functions:\n",
    "\n",
    "def C1(angle):\n",
    "    x = symbols('x')\n",
    "    Rx = Matrix([\n",
    "        [1, 0, 0],\n",
    "        [0, cos(x), sin(x)],\n",
    "        [0, -sin(x), cos(x)]])\n",
    "    return Rx.subs(x, angle)\n",
    "\n",
    "\n",
    "def C2(angle):\n",
    "    y = symbols('y')\n",
    "    Ry = Matrix([\n",
    "        [cos(y), 0, -sin(y)],\n",
    "        [0,  1, 0],\n",
    "        [sin(y), 0, cos(y)]])\n",
    "    return Ry.subs(y, angle)\n",
    "\n",
    "\n",
    "def C3(angle):\n",
    "    z = symbols('z')\n",
    "    Rz = Matrix([\n",
    "        [cos(z), sin(z), 0],\n",
    "        [-sin(z),  cos(z), 0],\n",
    "        [0,    0, 1]])\n",
    "    return Rz.subs(z, angle)\n"
   ]
  },
  {
   "cell_type": "code",
   "execution_count": 150,
   "metadata": {},
   "outputs": [],
   "source": [
    "class IJKReferenceFrame(ReferenceFrame):\n",
    "    def __init__(self, name):\n",
    "        super().__init__(name, latexs=['\\mathbf{%s}_{%s}' % (\n",
    "            idx, name) for idx in (\"i\", \"j\", \"k\")])\n",
    "        self.i = self.x\n",
    "        self.j = self.y\n",
    "        self.k = self.z"
   ]
  },
  {
   "cell_type": "markdown",
   "metadata": {},
   "source": [
    "## 3-2-3 Euler angles rotation matrices\n",
    "Find the Euler rotation matrix C21 in terms of 3-2-3 Euler angles rotation sequence, with angles ϴ1, ϴ2, ϴ3. Specifically, frame 2 is obtained from frame 1 by:\n",
    "\n",
    " - A rotation ϴ1 about the z-axis (3-axis) of frame 1,\n",
    " - a rotation ϴ2 about the y-axis (2-axis) of intermediate frame,\n",
    " - a rotation ϴ3 about the z-axis (3-axis) of the transformed frame."
   ]
  },
  {
   "cell_type": "code",
   "execution_count": 151,
   "metadata": {},
   "outputs": [
    {
     "data": {
      "text/latex": [
       "$\\displaystyle \\left[\\begin{matrix}- \\sin{\\left(\\mu \\right)} \\sin{\\left(\\psi \\right)} + \\cos{\\left(\\gamma \\right)} \\cos{\\left(\\mu \\right)} \\cos{\\left(\\psi \\right)} & \\sin{\\left(\\mu \\right)} \\cos{\\left(\\gamma \\right)} \\cos{\\left(\\psi \\right)} + \\sin{\\left(\\psi \\right)} \\cos{\\left(\\mu \\right)} & - \\sin{\\left(\\gamma \\right)} \\cos{\\left(\\psi \\right)}\\\\- \\sin{\\left(\\mu \\right)} \\cos{\\left(\\psi \\right)} - \\sin{\\left(\\psi \\right)} \\cos{\\left(\\gamma \\right)} \\cos{\\left(\\mu \\right)} & - \\sin{\\left(\\mu \\right)} \\sin{\\left(\\psi \\right)} \\cos{\\left(\\gamma \\right)} + \\cos{\\left(\\mu \\right)} \\cos{\\left(\\psi \\right)} & \\sin{\\left(\\gamma \\right)} \\sin{\\left(\\psi \\right)}\\\\\\sin{\\left(\\gamma \\right)} \\cos{\\left(\\mu \\right)} & \\sin{\\left(\\gamma \\right)} \\sin{\\left(\\mu \\right)} & \\cos{\\left(\\gamma \\right)}\\end{matrix}\\right]$"
      ],
      "text/plain": [
       "⎡-sin(μ)⋅sin(ψ) + cos(γ)⋅cos(μ)⋅cos(ψ)  sin(μ)⋅cos(γ)⋅cos(ψ) + sin(ψ)⋅cos(μ)  \n",
       "⎢                                                                             \n",
       "⎢-sin(μ)⋅cos(ψ) - sin(ψ)⋅cos(γ)⋅cos(μ)  -sin(μ)⋅sin(ψ)⋅cos(γ) + cos(μ)⋅cos(ψ) \n",
       "⎢                                                                             \n",
       "⎣            sin(γ)⋅cos(μ)                          sin(γ)⋅sin(μ)             \n",
       "\n",
       " -sin(γ)⋅cos(ψ)⎤\n",
       "               ⎥\n",
       " sin(γ)⋅sin(ψ) ⎥\n",
       "               ⎥\n",
       "     cos(γ)    ⎦"
      ]
     },
     "execution_count": 151,
     "metadata": {},
     "output_type": "execute_result"
    }
   ],
   "source": [
    "# 3-2-3 Euler angles rotation matrices\n",
    "\n",
    "# Ctot(x,y,z) = C3(x) * C2(y) * C3(z)\n",
    "\n",
    "C3_x = C3(x)\n",
    "C2_y = C2(y)\n",
    "C3_z = C3(z)\n",
    "\n",
    "R_zyz = C3_z * C2_y * C3_x\n",
    "R_zyz"
   ]
  },
  {
   "cell_type": "markdown",
   "metadata": {},
   "source": [
    "### Find from the 3-2-3 Euler rotation matrix the appropriate Euler angles\n",
    "\n",
    "You can get this by looking at the matrix:\n",
    "1. Since $R_{zyz}$[2,2] = cos($\\gamma$) -> $\\gamma$ = $cos^{-1}$($R_{zyz}$[2,2])\n",
    "2. Then you can get $\\mu$ by doing $\\frac{R_{zyz}[2,1]}{R_{zyz}[2,0]}$. Therefore, you get $tan(\\mu)$ = $\\frac{R_{zyz}[2,1]}{R_{zyz}[2,0]}$\n",
    "3. Similarly, you can get $\\psi$ by doing $\\frac{R_{zyz}[1,2]}{R_{zyz}[0,2]}$\n",
    "\n",
    "Note that the notation used for indices corresponds to that of Python"
   ]
  },
  {
   "cell_type": "code",
   "execution_count": 152,
   "metadata": {},
   "outputs": [
    {
     "data": {
      "text/latex": [
       "$\\displaystyle \\left( \\operatorname{atan}{\\left(\\tan{\\left(\\mu \\right)} \\right)}, \\  \\operatorname{acos}{\\left(\\cos{\\left(\\gamma \\right)} \\right)}, \\  \\operatorname{atan}{\\left(\\tan{\\left(\\psi \\right)} \\right)}\\right)$"
      ],
      "text/plain": [
       "(atan(tan(μ)), acos(cos(γ)), atan(tan(ψ)))"
      ]
     },
     "execution_count": 152,
     "metadata": {},
     "output_type": "execute_result"
    }
   ],
   "source": [
    "x = trigsimp(atan(R_zyz[2, 1] / R_zyz[2, 0]))\n",
    "y = trigsimp(acos(R_zyz[2, 2]))\n",
    "z = -trigsimp(atan(R_zyz[1, 2] / R_zyz[0, 2]))\n",
    "x,y,z"
   ]
  },
  {
   "cell_type": "markdown",
   "metadata": {},
   "source": [
    "### For the 3-2-3 Euler sequence, derive the kinematic differential equation"
   ]
  },
  {
   "cell_type": "code",
   "execution_count": 249,
   "metadata": {},
   "outputs": [
    {
     "data": {
      "text/latex": [
       "$\\displaystyle \\left[\\begin{matrix}\\dot{\\gamma} \\sin{\\left(\\psi \\right)} - \\dot{\\psi} \\sin{\\left(\\gamma \\right)} \\cos{\\left(\\psi \\right)}\\\\\\dot{\\gamma} \\cos{\\left(\\psi \\right)} + \\dot{\\psi} \\sin{\\left(\\gamma \\right)} \\sin{\\left(\\psi \\right)}\\\\\\dot{\\psi} \\cos{\\left(\\gamma \\right)} + \\dot{\\psi}\\end{matrix}\\right]$"
      ],
      "text/plain": [
       "⎡\\dot{\\gamma}⋅sin(ψ) - \\dot{\\psi}⋅sin(γ)⋅cos(ψ)⎤\n",
       "⎢                                              ⎥\n",
       "⎢\\dot{\\gamma}⋅cos(ψ) + \\dot{\\psi}⋅sin(γ)⋅sin(ψ)⎥\n",
       "⎢                                              ⎥\n",
       "⎣        \\dot{\\psi}⋅cos(γ) + \\dot{\\psi}        ⎦"
      ]
     },
     "execution_count": 249,
     "metadata": {},
     "output_type": "execute_result"
    }
   ],
   "source": [
    "x, y, z = symbols('mu gamma psi')\n",
    "\n",
    "# C3_x = C3(x)\n",
    "# C2_y = C2(y)\n",
    "# C3_z = C3(z)\n",
    "\n",
    "dotx, doty, dotz = symbols('\\dot{\\mu} \\dot{\\gamma} \\dot{\\psi}')\n",
    "omegax, omegay, omegaz = symbols('\\omega_mu \\omega_gamma \\omega_psi')\n",
    "\n",
    "matrix = (Matrix([0, 0, dotz])) + C3_z*(Matrix([0, doty, 0])) + \\\n",
    "    C3_z * C2_y * (Matrix([0, 0, dotz]))  # REVIEW\n",
    "matrix\n"
   ]
  },
  {
   "cell_type": "code",
   "execution_count": 237,
   "metadata": {},
   "outputs": [
    {
     "data": {
      "text/latex": [
       "$\\displaystyle \\left[\\begin{matrix}\\dot{\\gamma} \\left(\\dot{\\gamma} \\cos{\\left(\\psi \\right)} + \\dot{\\psi} \\sin{\\left(\\gamma \\right)} \\sin{\\left(\\psi \\right)}\\right) + \\dot{\\mu} \\left(\\dot{\\gamma} \\sin{\\left(\\psi \\right)} - \\dot{\\psi} \\sin{\\left(\\gamma \\right)} \\cos{\\left(\\psi \\right)}\\right) + \\dot{\\psi} \\left(\\dot{\\psi} \\cos{\\left(\\gamma \\right)} + \\dot{\\psi}\\right)\\end{matrix}\\right]$"
      ],
      "text/plain": [
       "[\\dot{\\gamma}⋅(\\dot{\\gamma}⋅cos(ψ) + \\dot{\\psi}⋅sin(γ)⋅sin(ψ)) + \\dot{\\mu}⋅(\\d\n",
       "ot{\\gamma}⋅sin(ψ) - \\dot{\\psi}⋅sin(γ)⋅cos(ψ)) + \\dot{\\psi}⋅(\\dot{\\psi}⋅cos(γ) \n",
       "+ \\dot{\\psi})]"
      ]
     },
     "execution_count": 237,
     "metadata": {},
     "output_type": "execute_result"
    }
   ],
   "source": [
    "matrix.T * Matrix([dotx, doty, dotz])\n"
   ]
  },
  {
   "cell_type": "code",
   "execution_count": 258,
   "metadata": {},
   "outputs": [
    {
     "data": {
      "text/latex": [
       "$\\displaystyle \\left[\\begin{matrix}\\dot{\\gamma} b + \\dot{\\mu} a + \\dot{\\psi} c\\\\\\dot{\\gamma} e + \\dot{\\mu} d + \\dot{\\psi} f\\\\\\dot{\\gamma} h + \\dot{\\mu} g + \\dot{\\psi} i\\end{matrix}\\right]$"
      ],
      "text/plain": [
       "⎡\\dot{\\gamma}⋅b + \\dot{\\mu}⋅a + \\dot{\\psi}⋅c⎤\n",
       "⎢                                           ⎥\n",
       "⎢\\dot{\\gamma}⋅e + \\dot{\\mu}⋅d + \\dot{\\psi}⋅f⎥\n",
       "⎢                                           ⎥\n",
       "⎣\\dot{\\gamma}⋅h + \\dot{\\mu}⋅g + \\dot{\\psi}⋅i⎦"
      ]
     },
     "execution_count": 258,
     "metadata": {},
     "output_type": "execute_result"
    }
   ],
   "source": [
    "def reverse_matrix_multiply(matrix): # NEED TO CHECK HOW TO TAKE ONLY PART OF COMPONENT THAT GOES WITH EACH THING\n",
    "    return Matrix([\n",
    "        [ matrix[0], matrix[0], matrix[0]],\n",
    "        [ matrix[1], matrix[1], matrix[1]],\n",
    "        [ matrix[2], matrix[2], matrix[2]]\n",
    "        ])\n",
    "# PODRÍA PLANTEAR COMO ECUACIÓN, NO? i.e. [3x3 matrix] * [3x1 vector] = [3x1 vector],\n",
    "#  knowns would be [dotx, doty, dotz] and matrix (the 3x1 vector)\n",
    "\n",
    "#def reverse_matrix_multiply(matrix):\n",
    "    #\"\"\" matrix input has 3x1 shape, Matrix33 output has 3x3 shape \"\"\"\n",
    "    #Matrix33 = []\n",
    "    #return Matrix33 * Matrix([[dotx], [doty], [dotz]]) == matrix\n",
    "#    return [a*xx + b*yy + czz - matrix[0], d*xx + e*yy, + f*zz - matrix[1],\n",
    "#            g*xx + h*yy + i*zz - matrix[2]]\n",
    "\n",
    "\n",
    "#dot_angles = Matrix([dotx, doty, dotz])\n",
    "#reverse_matrix_multiply(matrix)\n",
    "#matrix.dot(Matrix([dotx, doty, dotz]))\n",
    "#matrix/dot_angles\n",
    "#dot_angles*matrix**-1\n",
    "#from sympy import \n",
    "#xx, yy, zz = symbols('x y z')\n",
    "a, b, c, d, e, f, g, h, i = symbols('a b c d e f g h i')\n",
    "M = Matrix([[a*dotx + b*doty + c*dotz], [d*dotx + e*doty + f*dotz], [g*dotx + h*doty + i*dotz] ])\n",
    "M\n",
    "\n",
    "#solve_linear_system(M, dotx, doty, dotz)\n"
   ]
  },
  {
   "cell_type": "code",
   "execution_count": 247,
   "metadata": {},
   "outputs": [
    {
     "data": {
      "text/latex": [
       "$\\displaystyle \\left( \\left[\\begin{matrix}- \\sin{\\left(\\gamma \\right)} \\cos{\\left(\\psi \\right)} & \\sin{\\left(\\psi \\right)} & 0\\\\\\sin{\\left(\\gamma \\right)} \\sin{\\left(\\psi \\right)} & \\cos{\\left(\\psi \\right)} & 0\\\\\\cos{\\left(\\gamma \\right)} & 0 & 1\\end{matrix}\\right], \\  \\left[\\begin{matrix}\\dot{\\mu}\\\\\\dot{\\gamma}\\\\\\dot{\\psi}\\end{matrix}\\right]\\right)$"
      ],
      "text/plain": [
       "⎛⎡-sin(γ)⋅cos(ψ)  sin(ψ)  0⎤  ⎡ \\dot{\\mu}  ⎤⎞\n",
       "⎜⎢                         ⎥  ⎢            ⎥⎟\n",
       "⎜⎢sin(γ)⋅sin(ψ)   cos(ψ)  0⎥, ⎢\\dot{\\gamma}⎥⎟\n",
       "⎜⎢                         ⎥  ⎢            ⎥⎟\n",
       "⎝⎣    cos(γ)        0     1⎦  ⎣ \\dot{\\psi} ⎦⎠"
      ]
     },
     "execution_count": 247,
     "metadata": {},
     "output_type": "execute_result"
    }
   ],
   "source": [
    "matrix = Matrix([[-cos(z)*sin(y), sin(z), 0],\n",
    "                [sin(z)*sin(y), cos(z), 0],\n",
    "                [cos(y), 0, 1]]) # If i could make this automatically it would be better\n",
    "\n",
    "\n",
    "matrix, Matrix([dotx, doty, dotz])\n"
   ]
  },
  {
   "cell_type": "code",
   "execution_count": 200,
   "metadata": {},
   "outputs": [
    {
     "data": {
      "text/latex": [
       "$\\displaystyle \\left[\\begin{matrix}\\dot{\\gamma} \\sin{\\left(\\psi \\right)} - \\dot{\\mu} \\sin{\\left(\\gamma \\right)} \\cos{\\left(\\psi \\right)}\\\\\\dot{\\gamma} \\cos{\\left(\\psi \\right)} + \\dot{\\mu} \\sin{\\left(\\gamma \\right)} \\sin{\\left(\\psi \\right)}\\\\\\dot{\\mu} \\cos{\\left(\\gamma \\right)} + \\dot{\\psi}\\end{matrix}\\right]$"
      ],
      "text/plain": [
       "⎡\\dot{\\gamma}⋅sin(ψ) - \\dot{\\mu}⋅sin(γ)⋅cos(ψ)⎤\n",
       "⎢                                             ⎥\n",
       "⎢\\dot{\\gamma}⋅cos(ψ) + \\dot{\\mu}⋅sin(γ)⋅sin(ψ)⎥\n",
       "⎢                                             ⎥\n",
       "⎣        \\dot{\\mu}⋅cos(γ) + \\dot{\\psi}        ⎦"
      ]
     },
     "execution_count": 200,
     "metadata": {},
     "output_type": "execute_result"
    }
   ],
   "source": [
    "matrix * Matrix([dotx, doty, dotz]) # CHECKING IF THIS HOLDS UP\n"
   ]
  },
  {
   "cell_type": "markdown",
   "metadata": {},
   "source": [
    "To check if the inversion matrix is the one given in the problem, we compute the following:"
   ]
  },
  {
   "cell_type": "code",
   "execution_count": 173,
   "metadata": {},
   "outputs": [
    {
     "data": {
      "text/latex": [
       "$\\displaystyle \\left[\\begin{matrix}- \\frac{\\cos{\\left(\\psi \\right)}}{\\sin{\\left(\\gamma \\right)}} & \\frac{\\sin{\\left(\\psi \\right)}}{\\sin{\\left(\\gamma \\right)}} & 0\\\\\\sin{\\left(\\psi \\right)} & \\cos{\\left(\\psi \\right)} & 0\\\\\\frac{\\cos{\\left(\\psi \\right)}}{\\tan{\\left(\\gamma \\right)}} & - \\frac{\\sin{\\left(\\psi \\right)}}{\\tan{\\left(\\gamma \\right)}} & 1\\end{matrix}\\right]$"
      ],
      "text/plain": [
       "⎡-cos(ψ)    sin(ψ)    ⎤\n",
       "⎢────────   ──────   0⎥\n",
       "⎢ sin(γ)    sin(γ)    ⎥\n",
       "⎢                     ⎥\n",
       "⎢ sin(ψ)    cos(ψ)   0⎥\n",
       "⎢                     ⎥\n",
       "⎢ cos(ψ)   -sin(ψ)    ⎥\n",
       "⎢ ──────   ────────  1⎥\n",
       "⎣ tan(γ)    tan(γ)    ⎦"
      ]
     },
     "execution_count": 173,
     "metadata": {},
     "output_type": "execute_result"
    }
   ],
   "source": [
    "invmatrix =simplify(matrix.inv())  \n",
    "invmatrix"
   ]
  },
  {
   "cell_type": "code",
   "execution_count": 180,
   "metadata": {},
   "outputs": [
    {
     "data": {
      "text/latex": [
       "$\\displaystyle \\left( \\frac{1}{\\sin{\\left(\\gamma \\right)}}, \\  \\left[\\begin{matrix}- \\cos{\\left(\\psi \\right)} & \\sin{\\left(\\psi \\right)} & 0\\\\\\sin{\\left(\\gamma \\right)} \\sin{\\left(\\psi \\right)} & \\sin{\\left(\\gamma \\right)} \\cos{\\left(\\psi \\right)} & 0\\\\\\cos{\\left(\\gamma \\right)} \\cos{\\left(\\psi \\right)} & - \\sin{\\left(\\psi \\right)} \\cos{\\left(\\gamma \\right)} & \\sin{\\left(\\gamma \\right)}\\end{matrix}\\right]\\right)$"
      ],
      "text/plain": [
       "⎛        ⎡   -cos(ψ)         sin(ψ)        0   ⎤⎞\n",
       "⎜  1     ⎢                                     ⎥⎟\n",
       "⎜──────, ⎢sin(γ)⋅sin(ψ)  sin(γ)⋅cos(ψ)     0   ⎥⎟\n",
       "⎜sin(γ)  ⎢                                     ⎥⎟\n",
       "⎝        ⎣cos(γ)⋅cos(ψ)  -sin(ψ)⋅cos(γ)  sin(γ)⎦⎠"
      ]
     },
     "execution_count": 180,
     "metadata": {},
     "output_type": "execute_result"
    }
   ],
   "source": [
    "# Show how the matrix would look like (instead of a comma it should be a dot product)\n",
    "1/sin(y), simplify(invmatrix*sin(y))\n"
   ]
  },
  {
   "cell_type": "code",
   "execution_count": 190,
   "metadata": {},
   "outputs": [
    {
     "data": {
      "text/latex": [
       "$\\displaystyle \\left[\\begin{matrix}1 & 0 & 0\\\\0 & 1 & 0\\\\0 & 0 & 1\\end{matrix}\\right]$"
      ],
      "text/plain": [
       "⎡1  0  0⎤\n",
       "⎢       ⎥\n",
       "⎢0  1  0⎥\n",
       "⎢       ⎥\n",
       "⎣0  0  1⎦"
      ]
     },
     "execution_count": 190,
     "metadata": {},
     "output_type": "execute_result"
    }
   ],
   "source": [
    "# Check if correct by multiplying the original matrix by its inverse. \n",
    "# Should get an Identity matrix\n",
    "\n",
    "simplify(matrix*invmatrix)"
   ]
  },
  {
   "cell_type": "code",
   "execution_count": 192,
   "metadata": {},
   "outputs": [
    {
     "name": "stdout",
     "output_type": "stream",
     "text": [
      "The matrix is correct\n"
     ]
    }
   ],
   "source": [
    "if eye(3) == simplify(matrix*invmatrix):\n",
    "    print(\"The matrix is correct\")\n",
    "else:\n",
    "    print(\"The matrix is incorrect\")"
   ]
  }
 ],
 "metadata": {
  "interpreter": {
   "hash": "7bdadbcc745afc9ac1e1714124e1bb5770ee7d86d26de672bb194e9104174d2a"
  },
  "kernelspec": {
   "display_name": "Python 3.8.3 64-bit ('base': conda)",
   "name": "python3"
  },
  "language_info": {
   "codemirror_mode": {
    "name": "ipython",
    "version": 3
   },
   "file_extension": ".py",
   "mimetype": "text/x-python",
   "name": "python",
   "nbconvert_exporter": "python",
   "pygments_lexer": "ipython3",
   "version": "3.8.3"
  },
  "orig_nbformat": 4
 },
 "nbformat": 4,
 "nbformat_minor": 2
}
