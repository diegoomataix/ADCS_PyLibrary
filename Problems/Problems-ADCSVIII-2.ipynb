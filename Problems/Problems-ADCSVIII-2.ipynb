{
 "cells": [
  {
   "cell_type": "code",
   "execution_count": 233,
   "metadata": {},
   "outputs": [],
   "source": [
    "#%% Import libraries\n",
    "import numpy as np\n",
    "from sympy import *\n",
    "# from sympy.physics.mechanics import ReferenceFrame\n",
    "from IPython.display import display, Latex, Math\n",
    "init_printing(use_latex='mathjax')\n"
   ]
  },
  {
   "cell_type": "code",
   "execution_count": 234,
   "metadata": {},
   "outputs": [],
   "source": [
    "#%% Functions\n",
    "\n",
    "def print_matrix(array, decimals=3):\n",
    "    \"\"\"\n",
    "    A function to just print a matrix in Latex form. It just looks nicer.\n",
    "    \"\"\"\n",
    "    matrix = ''\n",
    "    for row in array:\n",
    "        try:\n",
    "            for number in row:\n",
    "                matrix += f'{round(number,decimals)}&'\n",
    "        except TypeError:\n",
    "            matrix += f'{round(row,decimals)}&'\n",
    "        matrix = matrix[:-1] + r'\\\\'\n",
    "    display(Math(r'\\begin{bmatrix}'+matrix+r'\\end{bmatrix}'))\n",
    "\n",
    "\n",
    "def char_poly(J):\n",
    "    \"\"\"\n",
    "    Inputs a matrix in sympy form.\n",
    "    Finds the characteristic polynomial of a matrix in sympy form.\n",
    "    Takes the coefficients of the polynomial as a numpy array and Outputs the roots of the polynomial.\n",
    "    NOTE: TBH I could also just use the find_eigen function or just numpy... But this way I get the characteristic polynomial.\n",
    "    \"\"\"\n",
    "    # J.charpoly() gives the characteristic polynomial of J. Can also write as J.charpoly().as_expr() to just get the poly equation\n",
    "    char_eq = J.charpoly()\n",
    "    coef = np.array(char_eq.all_coeffs())\n",
    "    return J.charpoly().as_expr(), np.roots(coef)\n",
    "\n",
    "\n",
    "def find_eigen(J):\n",
    "    \"\"\"\n",
    "    Input: a matrix in sympy form.\n",
    "    Output: the eigenvalues and eigenvectors of a matrix in sympy form as numpy arrays\n",
    "    \"\"\"\n",
    "    # J.eigenvects() gives the eigenvectors of J. Can also write as J.eigenvects().as_expr() to just get the eigenvectors\n",
    "    Eigen = np.linalg.eigh(np.array(J, dtype='float'))\n",
    "    Eigenvalues = Eigen[0]\n",
    "    Eigenvectors = Eigen[1]\n",
    "    return Eigenvalues, Eigenvectors\n"
   ]
  },
  {
   "cell_type": "markdown",
   "metadata": {},
   "source": [
    "## Assume the rotational kinetic energy has the form: \n",
    "\n",
    "### $2 T_r = 20\\omega_x^2 + 30\\omega_y^2 + 15 \\omega_z^2-20\\omega_x\\omega_y-30\\omega_x\\omega_z$\n"
   ]
  },
  {
   "cell_type": "code",
   "execution_count": 235,
   "metadata": {},
   "outputs": [],
   "source": [
    "## Define symbols\n",
    "T_r2 = Symbol('2T_r')\n",
    "omega_x = Symbol('omega_x')\n",
    "omega_y = Symbol('omega_y')\n",
    "omega_z = Symbol('omega_z')"
   ]
  },
  {
   "cell_type": "code",
   "execution_count": 236,
   "metadata": {},
   "outputs": [
    {
     "data": {
      "text/latex": [
       "$\\displaystyle 20 \\omega_{x}^{2} - 20 \\omega_{x} \\omega_{y} - 30 \\omega_{x} \\omega_{z} + 30 \\omega_{y}^{2} + 15 \\omega_{z}^{2}$"
      ],
      "text/plain": [
       "     2                                 2         2\n",
       "20⋅ωₓ  - 20⋅ωₓ⋅ω_y - 30⋅ωₓ⋅ω_z + 30⋅ω_y  + 15⋅ω_z "
      ]
     },
     "execution_count": 236,
     "metadata": {},
     "output_type": "execute_result"
    }
   ],
   "source": [
    "T_r2 = (20*omega_x**2 + 30*omega_y**2 + 15 *\n",
    "                omega_z**2-20*omega_x*omega_y-30*omega_x*omega_z)\n",
    "T_r2"
   ]
  },
  {
   "cell_type": "markdown",
   "metadata": {},
   "source": [
    "## Please write the rotational kinetic energy in principle axis.\n",
    "\n",
    "### Hint: The above rotational kinetic energy has the form $2 T_r = ω^T Jω$ . Find the appropriate transformation so that the rotational kinetic energy in principle axis has the form $2 T_r = ω^T Iω$ , where I is now a diagonal matrix."
   ]
  },
  {
   "cell_type": "markdown",
   "metadata": {},
   "source": [
    "The rotational kinetic energy in the form: $2 T_r = 20\\omega_x^2 + 30\\omega_y^2 + 15 \\omega_z^2-20\\omega_x\\omega_y-30\\omega_x\\omega_z$\n",
    "can be written in matrix notation as follows $2 T_r = ω^T Jω$. The associated non-diagonal inertia matrix has the following form:"
   ]
  },
  {
   "cell_type": "code",
   "execution_count": 237,
   "metadata": {},
   "outputs": [
    {
     "data": {
      "text/latex": [
       "$\\displaystyle \\left( \\left[\\begin{matrix}\\omega_{x} & \\omega_{y} & \\omega_{z}\\end{matrix}\\right], \\  \\left[\\begin{matrix}20 & -10 & -15\\\\-10 & 30 & 0\\\\-15 & 0 & 15\\end{matrix}\\right], \\  \\left[\\begin{matrix}\\omega_{x}\\\\\\omega_{y}\\\\\\omega_{z}\\end{matrix}\\right]\\right)$"
      ],
      "text/plain": [
       "⎛                ⎡20   -10  -15⎤  ⎡ωₓ ⎤⎞\n",
       "⎜                ⎢             ⎥  ⎢   ⎥⎟\n",
       "⎜[ωₓ  ω_y  ω_z], ⎢-10  30    0 ⎥, ⎢ω_y⎥⎟\n",
       "⎜                ⎢             ⎥  ⎢   ⎥⎟\n",
       "⎝                ⎣-15   0   15 ⎦  ⎣ω_z⎦⎠"
      ]
     },
     "execution_count": 237,
     "metadata": {},
     "output_type": "execute_result"
    }
   ],
   "source": [
    "# In matrix form:\n",
    "J = Matrix([[20, -10, -15], [-10, 30, 0], [-15, 0, 15]])\n",
    "\n",
    "omegas = Matrix([omega_x, omega_y, omega_z])\n",
    "\n",
    "omegas.T, J, omegas\n"
   ]
  },
  {
   "cell_type": "code",
   "execution_count": 238,
   "metadata": {},
   "outputs": [
    {
     "data": {
      "text/latex": [
       "$\\displaystyle \\operatorname{PurePoly}{\\left( \\lambda^{3} - 65 \\lambda^{2} + 1025 \\lambda - 750, \\lambda, domain=\\mathbb{Z} \\right)}$"
      ],
      "text/plain": [
       "PurePoly(lambda**3 - 65*lambda**2 + 1025*lambda - 750, lambda, domain='ZZ')"
      ]
     },
     "execution_count": 238,
     "metadata": {},
     "output_type": "execute_result"
    }
   ],
   "source": [
    "char_eq = J.charpoly()#.as_expr()\n",
    "char_eq"
   ]
  },
  {
   "cell_type": "code",
   "execution_count": 239,
   "metadata": {},
   "outputs": [
    {
     "data": {
      "text/latex": [
       "$\\displaystyle \\begin{bmatrix}39.585\\\\24.646\\\\0.769\\\\\\end{bmatrix}$"
      ],
      "text/plain": [
       "<IPython.core.display.Math object>"
      ]
     },
     "metadata": {},
     "output_type": "display_data"
    },
    {
     "name": "stdout",
     "output_type": "stream",
     "text": [
      "I_1 =  39.58\n",
      "I_2 =  24.65\n",
      "I_3 =  0.77\n"
     ]
    }
   ],
   "source": [
    "charpoly, Eigenvalues = char_poly(J)\n",
    "\n",
    "print_matrix(Eigenvalues)\n",
    "\n",
    "I = np.round(Eigenvalues, 2) # Principle moments of inertia\n",
    "print('I_1 = ', round(Eigenvalues[0], 2))\n",
    "print('I_2 = ', round(Eigenvalues[1], 2))\n",
    "print('I_3 = ', round(Eigenvalues[2], 2))\n"
   ]
  },
  {
   "cell_type": "code",
   "execution_count": 240,
   "metadata": {},
   "outputs": [
    {
     "data": {
      "text/latex": [
       "$\\displaystyle \\begin{bmatrix}-0.67&0.381&0.637\\\\-0.229&0.711&-0.665\\\\-0.706&-0.592&-0.389\\\\\\end{bmatrix}$"
      ],
      "text/plain": [
       "<IPython.core.display.Math object>"
      ]
     },
     "metadata": {},
     "output_type": "display_data"
    }
   ],
   "source": [
    "_, Eigenvectors = find_eigen(J)\n",
    "print_matrix(Eigenvectors)  # Rotation matrix\n"
   ]
  },
  {
   "cell_type": "code",
   "execution_count": 241,
   "metadata": {},
   "outputs": [
    {
     "data": {
      "text/latex": [
       "$\\displaystyle \\begin{bmatrix}-0.67&-0.229&-0.706\\\\0.381&0.711&-0.592\\\\0.637&-0.665&-0.389\\\\\\end{bmatrix}$"
      ],
      "text/plain": [
       "<IPython.core.display.Math object>"
      ]
     },
     "metadata": {},
     "output_type": "display_data"
    }
   ],
   "source": [
    "# Rotation matrix\n",
    "Rot_matrix = Eigenvectors.T\n",
    "print_matrix(Rot_matrix)\n"
   ]
  },
  {
   "cell_type": "markdown",
   "metadata": {},
   "source": [
    "### The rotational kinetic energy can be simply written as $2 T_r = \\bold{ω}^T \\bold{Iω}$:"
   ]
  },
  {
   "cell_type": "code",
   "execution_count": 242,
   "metadata": {},
   "outputs": [
    {
     "data": {
      "text/latex": [
       "$\\displaystyle 39.58 \\omega_{x}^{2} + 24.65 \\omega_{y}^{2} + 0.77 \\omega_{z}^{2}$"
      ],
      "text/plain": [
       "        2            2           2\n",
       "39.58⋅ωₓ  + 24.65⋅ω_y  + 0.77⋅ω_z "
      ]
     },
     "execution_count": 242,
     "metadata": {},
     "output_type": "execute_result"
    }
   ],
   "source": [
    "T_r2 = (I[0]*omega_x**2 + I[1]*omega_y**2 + I[2] *\n",
    "              omega_z**2)\n",
    "T_r2\n"
   ]
  }
 ],
 "metadata": {
  "interpreter": {
   "hash": "7bdadbcc745afc9ac1e1714124e1bb5770ee7d86d26de672bb194e9104174d2a"
  },
  "kernelspec": {
   "display_name": "Python 3.8.3 64-bit ('base': conda)",
   "name": "python3"
  },
  "language_info": {
   "codemirror_mode": {
    "name": "ipython",
    "version": 3
   },
   "file_extension": ".py",
   "mimetype": "text/x-python",
   "name": "python",
   "nbconvert_exporter": "python",
   "pygments_lexer": "ipython3",
   "version": "3.8.3"
  },
  "orig_nbformat": 4
 },
 "nbformat": 4,
 "nbformat_minor": 2
}
