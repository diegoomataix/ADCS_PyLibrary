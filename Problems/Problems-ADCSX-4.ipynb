{
 "cells": [
  {
   "cell_type": "code",
   "execution_count": null,
   "metadata": {},
   "outputs": [],
   "source": []
  },
  {
   "cell_type": "markdown",
   "metadata": {},
   "source": [
    "$I_{x} \\dot{\\omega}_{x}+\\left(I_{z}-I_{y}\\right) \\omega_{y} \\omega_{z}=T_{x c}+T_{x d}$\n",
    "\n",
    "$I_{y} \\dot{\\omega}_{y}+\\left(I_{x}-I_{z}\\right) \\omega_{x} \\omega_{z}=T_{y c}+T_{y d}$\n",
    "\n",
    "$I_{z} \\dot{\\omega}_{z}+\\left(I_{y}-I_{x}\\right) \\omega_{x} \\omega_{y}=T_{z c}+T_{z d}$"
   ]
  },
  {
   "cell_type": "markdown",
   "metadata": {},
   "source": [
    "$Y(s)=G_{p}(s)\\left[U(s)+\\hat{T}_{d z}(s)\\right]$"
   ]
  }
 ],
 "metadata": {
  "interpreter": {
   "hash": "7bdadbcc745afc9ac1e1714124e1bb5770ee7d86d26de672bb194e9104174d2a"
  },
  "kernelspec": {
   "display_name": "Python 3.8.3 64-bit ('base': conda)",
   "language": "python",
   "name": "python3"
  },
  "language_info": {
   "name": "python",
   "version": "3.8.3"
  },
  "orig_nbformat": 4
 },
 "nbformat": 4,
 "nbformat_minor": 2
}
